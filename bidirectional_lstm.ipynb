{
 "cells": [
  {
   "cell_type": "code",
   "execution_count": 1,
   "id": "25f591b5-9d76-4aff-b118-7a2977812750",
   "metadata": {},
   "outputs": [],
   "source": [
    "from datetime import datetime\n",
    "import numpy as np \n",
    "from matplotlib import pyplot as plt \n",
    "import tensorflow as tf \n",
    "from tensorflow import keras \n",
    "from tensorflow.keras import layers \n",
    "import pandas as pd "
   ]
  },
  {
   "cell_type": "markdown",
   "id": "42a3cdb8-6928-4d26-8b48-1baa4c890cc3",
   "metadata": {},
   "source": [
    "#### Importo il dataset"
   ]
  },
  {
   "cell_type": "code",
   "execution_count": 2,
   "id": "e02283d1-cad3-4c90-886f-cc90d5a8fd71",
   "metadata": {},
   "outputs": [
    {
     "data": {
      "text/html": [
       "<div>\n",
       "<style scoped>\n",
       "    .dataframe tbody tr th:only-of-type {\n",
       "        vertical-align: middle;\n",
       "    }\n",
       "\n",
       "    .dataframe tbody tr th {\n",
       "        vertical-align: top;\n",
       "    }\n",
       "\n",
       "    .dataframe thead th {\n",
       "        text-align: right;\n",
       "    }\n",
       "</style>\n",
       "<table border=\"1\" class=\"dataframe\">\n",
       "  <thead>\n",
       "    <tr style=\"text-align: right;\">\n",
       "      <th></th>\n",
       "      <th>Formatted Date</th>\n",
       "      <th>Summary</th>\n",
       "      <th>Precip Type</th>\n",
       "      <th>Temperature (C)</th>\n",
       "      <th>Apparent Temperature (C)</th>\n",
       "      <th>Humidity</th>\n",
       "      <th>Wind Speed (km/h)</th>\n",
       "      <th>Wind Bearing (degrees)</th>\n",
       "      <th>Visibility (km)</th>\n",
       "      <th>Loud Cover</th>\n",
       "      <th>Pressure (millibars)</th>\n",
       "      <th>Daily Summary</th>\n",
       "    </tr>\n",
       "  </thead>\n",
       "  <tbody>\n",
       "    <tr>\n",
       "      <th>0</th>\n",
       "      <td>2006-04-01 00:00:00.000 +0200</td>\n",
       "      <td>Partly Cloudy</td>\n",
       "      <td>rain</td>\n",
       "      <td>9.472222</td>\n",
       "      <td>7.388889</td>\n",
       "      <td>0.89</td>\n",
       "      <td>14.1197</td>\n",
       "      <td>251.0</td>\n",
       "      <td>15.8263</td>\n",
       "      <td>0.0</td>\n",
       "      <td>1015.13</td>\n",
       "      <td>Partly cloudy throughout the day.</td>\n",
       "    </tr>\n",
       "    <tr>\n",
       "      <th>1</th>\n",
       "      <td>2006-04-01 01:00:00.000 +0200</td>\n",
       "      <td>Partly Cloudy</td>\n",
       "      <td>rain</td>\n",
       "      <td>9.355556</td>\n",
       "      <td>7.227778</td>\n",
       "      <td>0.86</td>\n",
       "      <td>14.2646</td>\n",
       "      <td>259.0</td>\n",
       "      <td>15.8263</td>\n",
       "      <td>0.0</td>\n",
       "      <td>1015.63</td>\n",
       "      <td>Partly cloudy throughout the day.</td>\n",
       "    </tr>\n",
       "    <tr>\n",
       "      <th>2</th>\n",
       "      <td>2006-04-01 02:00:00.000 +0200</td>\n",
       "      <td>Mostly Cloudy</td>\n",
       "      <td>rain</td>\n",
       "      <td>9.377778</td>\n",
       "      <td>9.377778</td>\n",
       "      <td>0.89</td>\n",
       "      <td>3.9284</td>\n",
       "      <td>204.0</td>\n",
       "      <td>14.9569</td>\n",
       "      <td>0.0</td>\n",
       "      <td>1015.94</td>\n",
       "      <td>Partly cloudy throughout the day.</td>\n",
       "    </tr>\n",
       "    <tr>\n",
       "      <th>3</th>\n",
       "      <td>2006-04-01 03:00:00.000 +0200</td>\n",
       "      <td>Partly Cloudy</td>\n",
       "      <td>rain</td>\n",
       "      <td>8.288889</td>\n",
       "      <td>5.944444</td>\n",
       "      <td>0.83</td>\n",
       "      <td>14.1036</td>\n",
       "      <td>269.0</td>\n",
       "      <td>15.8263</td>\n",
       "      <td>0.0</td>\n",
       "      <td>1016.41</td>\n",
       "      <td>Partly cloudy throughout the day.</td>\n",
       "    </tr>\n",
       "    <tr>\n",
       "      <th>4</th>\n",
       "      <td>2006-04-01 04:00:00.000 +0200</td>\n",
       "      <td>Mostly Cloudy</td>\n",
       "      <td>rain</td>\n",
       "      <td>8.755556</td>\n",
       "      <td>6.977778</td>\n",
       "      <td>0.83</td>\n",
       "      <td>11.0446</td>\n",
       "      <td>259.0</td>\n",
       "      <td>15.8263</td>\n",
       "      <td>0.0</td>\n",
       "      <td>1016.51</td>\n",
       "      <td>Partly cloudy throughout the day.</td>\n",
       "    </tr>\n",
       "  </tbody>\n",
       "</table>\n",
       "</div>"
      ],
      "text/plain": [
       "                  Formatted Date        Summary Precip Type  Temperature (C)  \\\n",
       "0  2006-04-01 00:00:00.000 +0200  Partly Cloudy        rain         9.472222   \n",
       "1  2006-04-01 01:00:00.000 +0200  Partly Cloudy        rain         9.355556   \n",
       "2  2006-04-01 02:00:00.000 +0200  Mostly Cloudy        rain         9.377778   \n",
       "3  2006-04-01 03:00:00.000 +0200  Partly Cloudy        rain         8.288889   \n",
       "4  2006-04-01 04:00:00.000 +0200  Mostly Cloudy        rain         8.755556   \n",
       "\n",
       "   Apparent Temperature (C)  Humidity  Wind Speed (km/h)  \\\n",
       "0                  7.388889      0.89            14.1197   \n",
       "1                  7.227778      0.86            14.2646   \n",
       "2                  9.377778      0.89             3.9284   \n",
       "3                  5.944444      0.83            14.1036   \n",
       "4                  6.977778      0.83            11.0446   \n",
       "\n",
       "   Wind Bearing (degrees)  Visibility (km)  Loud Cover  Pressure (millibars)  \\\n",
       "0                   251.0          15.8263         0.0               1015.13   \n",
       "1                   259.0          15.8263         0.0               1015.63   \n",
       "2                   204.0          14.9569         0.0               1015.94   \n",
       "3                   269.0          15.8263         0.0               1016.41   \n",
       "4                   259.0          15.8263         0.0               1016.51   \n",
       "\n",
       "                       Daily Summary  \n",
       "0  Partly cloudy throughout the day.  \n",
       "1  Partly cloudy throughout the day.  \n",
       "2  Partly cloudy throughout the day.  \n",
       "3  Partly cloudy throughout the day.  \n",
       "4  Partly cloudy throughout the day.  "
      ]
     },
     "execution_count": 2,
     "metadata": {},
     "output_type": "execute_result"
    }
   ],
   "source": [
    "ds = pd.read_csv(r'C:\\Users\\claud\\Desktop\\Python\\MASTER CLASS MACHINE LEARNING\\moduli\\4 modulo\\Esercitazioni 4 modulo\\data\\meteo.csv')\n",
    "ds.head()"
   ]
  },
  {
   "cell_type": "markdown",
   "id": "47df0288-dba0-42ee-8b6b-8abdfd68c083",
   "metadata": {},
   "source": [
    "#### Creo una colonna chiamata 'Ok' nel caso rispetti le condizioni di temperatura, vento e visibilita sara True in caso contrario False"
   ]
  },
  {
   "cell_type": "code",
   "execution_count": 3,
   "id": "4471b26a-8e28-4e09-bf5b-920bf641c1b8",
   "metadata": {},
   "outputs": [],
   "source": [
    "ds['Ok'] = False \n",
    "ds.loc[(ds['Temperature (C)'] > 0) & (ds['Wind Speed (km/h)'] < 14) & (ds['Visibility (km)'] > 15), 'Ok'] = True "
   ]
  },
  {
   "cell_type": "markdown",
   "id": "bbefba72-df56-48c9-97ff-95c6093317f3",
   "metadata": {},
   "source": [
    "#### Creo un colonna chiamata 'Ok_13' che prende 13 esempi 6 prima e 6 dopo e indica il numero della degli elementi True per ogni N di elementi "
   ]
  },
  {
   "cell_type": "code",
   "execution_count": 4,
   "id": "76d8f10d-693b-4f28-a24e-e646344bb9ce",
   "metadata": {},
   "outputs": [],
   "source": [
    "ds['Ok_13'] = ds['Ok'].rolling(13, center=True).sum()"
   ]
  },
  {
   "cell_type": "code",
   "execution_count": 5,
   "id": "e94c6e8d-5547-4b0b-b8da-9af6a1f24cab",
   "metadata": {},
   "outputs": [
    {
     "name": "stdout",
     "output_type": "stream",
     "text": [
      "10249\n"
     ]
    }
   ],
   "source": [
    "print(len(ds.loc[ds['Ok_13'] == True]))"
   ]
  },
  {
   "cell_type": "code",
   "execution_count": 6,
   "id": "3f2f7195-c494-419f-88ba-46a0603edcde",
   "metadata": {},
   "outputs": [],
   "source": [
    "ds.dropna(inplace = True)"
   ]
  },
  {
   "cell_type": "markdown",
   "id": "16bafe12-14b3-4093-b037-76759263925d",
   "metadata": {},
   "source": [
    "#### Creo un nuovo dataset con le sottoscritte colonne e lo trasformo in una matrice"
   ]
  },
  {
   "cell_type": "code",
   "execution_count": 7,
   "id": "017c3c8d-577c-48c9-9779-aa282926bb7e",
   "metadata": {},
   "outputs": [],
   "source": [
    "ds = ds[['Temperature (C)', 'Visibility (km)', 'Wind Speed (km/h)', 'Ok']]\n",
    "\n",
    "ds = ds.values"
   ]
  },
  {
   "cell_type": "code",
   "execution_count": 8,
   "id": "b67fab3d-6b22-4415-b039-7c9edcd5d495",
   "metadata": {},
   "outputs": [
    {
     "data": {
      "text/plain": [
       "array([[7.733333333333334, 9.982, 12.3648, False],\n",
       "       [8.77222222222222, 9.982, 14.1519, False],\n",
       "       [10.82222222222222, 9.982, 11.3183, False],\n",
       "       ...,\n",
       "       [31.08333333333333, 16.1, 15.504300000000002, False],\n",
       "       [31.08333333333333, 16.1, 13.894300000000005, True],\n",
       "       [30.766666666666666, 15.552600000000002, 14.2163, False]],\n",
       "      dtype=object)"
      ]
     },
     "execution_count": 8,
     "metadata": {},
     "output_type": "execute_result"
    }
   ],
   "source": [
    "ds"
   ]
  },
  {
   "cell_type": "markdown",
   "id": "0264feff-e7a6-45be-ad1a-e03330ca1653",
   "metadata": {},
   "source": [
    "#### Normalizzo i dati "
   ]
  },
  {
   "cell_type": "code",
   "execution_count": 9,
   "id": "bb45954d-8c84-44bc-9c40-c9a5b048182e",
   "metadata": {},
   "outputs": [],
   "source": [
    "features = ds[:, :3]\n",
    "labels = ds[:, 3]\n",
    "\n",
    "max_features = np.max(features, axis=0)\n",
    "min_features = np.min(features, axis=0)\n",
    "\n",
    "features = (features - min_features) / (max_features - min_features)"
   ]
  },
  {
   "cell_type": "markdown",
   "id": "eea92cdb-0e68-4c58-b691-59a593ef50dd",
   "metadata": {},
   "source": [
    "#### Defionizione di X e Y con fasi temporali "
   ]
  },
  {
   "cell_type": "code",
   "execution_count": 35,
   "id": "1ee084e1-0f21-4541-a991-67e267661816",
   "metadata": {},
   "outputs": [
    {
     "name": "stdout",
     "output_type": "stream",
     "text": [
      "(95924, 13, 3)\n",
      "(95924, 13)\n"
     ]
    }
   ],
   "source": [
    "step = 13 \n",
    "x = np.zeros((len(features), step, len(features[0])), dtype = 'float32')\n",
    "y = np.zeros((len(labels), step), dtype = 'float32')\n",
    "\n",
    "for id in range(0, len(features) - step):\n",
    "    x[id] = features[id:id + step]\n",
    "    y[id] = labels[id:id + step]\n",
    "\n",
    "print(x.shape)\n",
    "print(y.shape)\n"
   ]
  },
  {
   "cell_type": "code",
   "execution_count": 31,
   "id": "fa71191c-06f4-4190-b66e-f2c5c7255e86",
   "metadata": {},
   "outputs": [
    {
     "name": "stdout",
     "output_type": "stream",
     "text": [
      "KerasTensor(type_spec=TensorSpec(shape=(None, 8), dtype=tf.float32, name=None), name='dropout_2/Identity:0', description=\"created by layer 'dropout_2'\")\n"
     ]
    }
   ],
   "source": []
  },
  {
   "cell_type": "code",
   "execution_count": 18,
   "id": "9d8e0ab6-a033-4ac3-89c7-fdb23980bf1f",
   "metadata": {},
   "outputs": [],
   "source": [
    "x_train = x[:90000]\n",
    "y_train = y[:90000]\n",
    "\n",
    "x_test = x[90000:]\n",
    "y_test = y[90000:]"
   ]
  },
  {
   "cell_type": "markdown",
   "id": "f392bc42-7984-4ee2-abd8-250cda5d4941",
   "metadata": {},
   "source": [
    "#### Scrittura architettura Bidirezionale con LSTM e compilazione modello"
   ]
  },
  {
   "cell_type": "code",
   "execution_count": 28,
   "id": "557d9e3a-6b34-41e4-a3aa-a49c09bbda13",
   "metadata": {},
   "outputs": [
    {
     "name": "stdout",
     "output_type": "stream",
     "text": [
      "Model: \"bidirectional\"\n",
      "_________________________________________________________________\n",
      " Layer (type)                Output Shape              Param #   \n",
      "=================================================================\n",
      " input_7 (InputLayer)        [(None, 13, 3)]           0         \n",
      "                                                                 \n",
      " bidirectional_2 (Bidirecti  (None, 13, 8)             768       \n",
      " onal)                                                           \n",
      "                                                                 \n",
      " bidirectional_3 (Bidirecti  (None, 8)                 1088      \n",
      " onal)                                                           \n",
      "                                                                 \n",
      " dense_4 (Dense)             (None, 8)                 72        \n",
      "                                                                 \n",
      " dropout_2 (Dropout)         (None, 8)                 0         \n",
      "                                                                 \n",
      " dense_5 (Dense)             (None, 13)                117       \n",
      "                                                                 \n",
      "=================================================================\n",
      "Total params: 2045 (7.99 KB)\n",
      "Trainable params: 2045 (7.99 KB)\n",
      "Non-trainable params: 0 (0.00 Byte)\n",
      "_________________________________________________________________\n"
     ]
    }
   ],
   "source": [
    "inputs = keras.Input(shape=(x_train.shape[1:]))\n",
    "\n",
    "x = layers.Bidirectional(layers.LSTM(8, return_sequences = True), merge_mode = 'ave')(inputs)\n",
    "x = layers.Bidirectional(layers.LSTM(8), merge_mode = 'ave')(x)\n",
    "x = layers.Dense(8, activation = 'swish')(x)\n",
    "x = layers.Dropout(0.3)(x)\n",
    "outputs = layers.Dense(step, activation = 'sigmoid')(x)\n",
    "bidirectional_model = keras.Model(inputs, outputs, name = 'bidirectional')\n",
    "bidirectional_model.summary()\n",
    "bidirectional_model.compile(keras.optimizers.Adam(), 'mse', metrics = 'binary_accuracy')"
   ]
  },
  {
   "cell_type": "markdown",
   "id": "ddf0268a-a69a-4d9b-9dfe-093242b379e0",
   "metadata": {},
   "source": [
    "#### Addestramento"
   ]
  },
  {
   "cell_type": "code",
   "execution_count": 29,
   "id": "08aa7f90-2f33-4587-8e68-8c5f5c36e68d",
   "metadata": {},
   "outputs": [
    {
     "name": "stdout",
     "output_type": "stream",
     "text": [
      "Epoch 1/25\n",
      "176/176 - 10s - loss: 0.1866 - binary_accuracy: 0.7519 - val_loss: 0.2288 - val_binary_accuracy: 0.7104 - 10s/epoch - 55ms/step\n",
      "Epoch 2/25\n",
      "176/176 - 2s - loss: 0.1282 - binary_accuracy: 0.8535 - val_loss: 0.1523 - val_binary_accuracy: 0.7104 - 2s/epoch - 14ms/step\n",
      "Epoch 3/25\n",
      "176/176 - 3s - loss: 0.0902 - binary_accuracy: 0.8833 - val_loss: 0.1194 - val_binary_accuracy: 0.8392 - 3s/epoch - 14ms/step\n",
      "Epoch 4/25\n",
      "176/176 - 3s - loss: 0.0830 - binary_accuracy: 0.8913 - val_loss: 0.1130 - val_binary_accuracy: 0.8386 - 3s/epoch - 18ms/step\n",
      "Epoch 5/25\n",
      "176/176 - 3s - loss: 0.0809 - binary_accuracy: 0.8921 - val_loss: 0.1107 - val_binary_accuracy: 0.8403 - 3s/epoch - 19ms/step\n",
      "Epoch 6/25\n",
      "176/176 - 3s - loss: 0.0797 - binary_accuracy: 0.8929 - val_loss: 0.1094 - val_binary_accuracy: 0.8411 - 3s/epoch - 19ms/step\n",
      "Epoch 7/25\n",
      "176/176 - 3s - loss: 0.0787 - binary_accuracy: 0.8935 - val_loss: 0.1068 - val_binary_accuracy: 0.8456 - 3s/epoch - 19ms/step\n",
      "Epoch 8/25\n",
      "176/176 - 3s - loss: 0.0770 - binary_accuracy: 0.8945 - val_loss: 0.1038 - val_binary_accuracy: 0.8475 - 3s/epoch - 19ms/step\n",
      "Epoch 9/25\n",
      "176/176 - 3s - loss: 0.0734 - binary_accuracy: 0.8970 - val_loss: 0.0984 - val_binary_accuracy: 0.8540 - 3s/epoch - 19ms/step\n",
      "Epoch 10/25\n",
      "176/176 - 3s - loss: 0.0701 - binary_accuracy: 0.9016 - val_loss: 0.0925 - val_binary_accuracy: 0.8684 - 3s/epoch - 20ms/step\n",
      "Epoch 11/25\n",
      "176/176 - 3s - loss: 0.0678 - binary_accuracy: 0.9061 - val_loss: 0.0902 - val_binary_accuracy: 0.8752 - 3s/epoch - 19ms/step\n",
      "Epoch 12/25\n",
      "176/176 - 3s - loss: 0.0665 - binary_accuracy: 0.9080 - val_loss: 0.0876 - val_binary_accuracy: 0.8793 - 3s/epoch - 19ms/step\n",
      "Epoch 13/25\n",
      "176/176 - 3s - loss: 0.0653 - binary_accuracy: 0.9094 - val_loss: 0.0898 - val_binary_accuracy: 0.8751 - 3s/epoch - 18ms/step\n",
      "Epoch 14/25\n",
      "176/176 - 3s - loss: 0.0646 - binary_accuracy: 0.9104 - val_loss: 0.0866 - val_binary_accuracy: 0.8804 - 3s/epoch - 18ms/step\n",
      "Epoch 15/25\n",
      "176/176 - 3s - loss: 0.0638 - binary_accuracy: 0.9117 - val_loss: 0.0850 - val_binary_accuracy: 0.8824 - 3s/epoch - 19ms/step\n",
      "Epoch 16/25\n",
      "176/176 - 3s - loss: 0.0631 - binary_accuracy: 0.9126 - val_loss: 0.0846 - val_binary_accuracy: 0.8827 - 3s/epoch - 19ms/step\n",
      "Epoch 17/25\n",
      "176/176 - 4s - loss: 0.0626 - binary_accuracy: 0.9134 - val_loss: 0.0827 - val_binary_accuracy: 0.8854 - 4s/epoch - 21ms/step\n",
      "Epoch 18/25\n",
      "176/176 - 3s - loss: 0.0620 - binary_accuracy: 0.9143 - val_loss: 0.0825 - val_binary_accuracy: 0.8864 - 3s/epoch - 19ms/step\n",
      "Epoch 19/25\n",
      "176/176 - 3s - loss: 0.0614 - binary_accuracy: 0.9152 - val_loss: 0.0814 - val_binary_accuracy: 0.8877 - 3s/epoch - 20ms/step\n",
      "Epoch 20/25\n",
      "176/176 - 4s - loss: 0.0608 - binary_accuracy: 0.9160 - val_loss: 0.0823 - val_binary_accuracy: 0.8868 - 4s/epoch - 20ms/step\n",
      "Epoch 21/25\n",
      "176/176 - 3s - loss: 0.0604 - binary_accuracy: 0.9165 - val_loss: 0.0810 - val_binary_accuracy: 0.8886 - 3s/epoch - 19ms/step\n",
      "Epoch 22/25\n",
      "176/176 - 3s - loss: 0.0599 - binary_accuracy: 0.9171 - val_loss: 0.0806 - val_binary_accuracy: 0.8896 - 3s/epoch - 19ms/step\n",
      "Epoch 23/25\n",
      "176/176 - 3s - loss: 0.0594 - binary_accuracy: 0.9180 - val_loss: 0.0796 - val_binary_accuracy: 0.8913 - 3s/epoch - 19ms/step\n",
      "Epoch 24/25\n",
      "176/176 - 3s - loss: 0.0591 - binary_accuracy: 0.9183 - val_loss: 0.0791 - val_binary_accuracy: 0.8914 - 3s/epoch - 19ms/step\n",
      "Epoch 25/25\n",
      "176/176 - 3s - loss: 0.0588 - binary_accuracy: 0.9185 - val_loss: 0.0794 - val_binary_accuracy: 0.8914 - 3s/epoch - 18ms/step\n"
     ]
    }
   ],
   "source": [
    "bidirectional_history = bidirectional_model.fit(x_train, y_train, batch_size=512, epochs=25, validation_data=(x_test, y_test), verbose=2)"
   ]
  },
  {
   "cell_type": "markdown",
   "id": "1c055c2f-a79f-490f-a004-8eb807bf7311",
   "metadata": {},
   "source": [
    "#### Illustrazione risultati di addestramento "
   ]
  },
  {
   "cell_type": "code",
   "execution_count": 30,
   "id": "e9d7095e-ccc9-4b4c-b197-b2f99572e786",
   "metadata": {},
   "outputs": [
    {
     "data": {
      "image/png": "[encoded data removed]",
      "text/plain": [
       "<Figure size 1600x500 with 1 Axes>"
      ]
     },
     "metadata": {},
     "output_type": "display_data"
    },
    {
     "data": {
      "image/png": "[encoded data removed]",
      "text/plain": [
       "<Figure size 1600x500 with 1 Axes>"
      ]
     },
     "metadata": {},
     "output_type": "display_data"
    }
   ],
   "source": [
    "plt.figure(figsize=(16,5))\n",
    "plt.plot(bidirectional_history.history['loss'], label='Bidirectional train', color='red')\n",
    "plt.plot(bidirectional_history.history['val_loss'], label='Bidirectional test', color='orange')\n",
    "plt.title('ERRORE')\n",
    "plt.legend()\n",
    "plt.show()\n",
    "\n",
    "plt.figure(figsize=(16,5))\n",
    "plt.plot(bidirectional_history.history['binary_accuracy'], label='Bidirectional train', color='red')\n",
    "plt.plot(bidirectional_history.history['val_binary_accuracy'], label='Bidirectional test', color='orange')\n",
    "plt.title('ACCURATEZZA')\n",
    "plt.legend()\n",
    "plt.show()"
   ]
  },
  {
   "cell_type": "code",
   "execution_count": null,
   "id": "d1375bcf-52df-4907-9f8a-77d4db56692d",
   "metadata": {},
   "outputs": [],
   "source": []
  }
 ],
 "metadata": {
  "kernelspec": {
   "display_name": "Python 3 (ipykernel)",
   "language": "python",
   "name": "python3"
  },
  "language_info": {
   "codemirror_mode": {
    "name": "ipython",
    "version": 3
   },
   "file_extension": ".py",
   "mimetype": "text/x-python",
   "name": "python",
   "nbconvert_exporter": "python",
   "pygments_lexer": "ipython3",
   "version": "3.8.0"
  }
 },
 "nbformat": 4,
 "nbformat_minor": 5
}
